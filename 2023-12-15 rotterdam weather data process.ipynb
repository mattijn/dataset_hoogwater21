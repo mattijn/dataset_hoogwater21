{
 "cells": [
  {
   "cell_type": "code",
   "execution_count": 1,
   "id": "a639dbe0-b146-41e6-9c3e-9e71c937d54d",
   "metadata": {},
   "outputs": [],
   "source": [
    "import pandas as pd\n",
    "import altair as alt"
   ]
  },
  {
   "cell_type": "code",
   "execution_count": 13,
   "id": "b9f2c44b-e383-4ca4-80b1-920dce260433",
   "metadata": {},
   "outputs": [
    {
     "data": {
      "text/html": [
       "<div>\n",
       "<style scoped>\n",
       "    .dataframe tbody tr th:only-of-type {\n",
       "        vertical-align: middle;\n",
       "    }\n",
       "\n",
       "    .dataframe tbody tr th {\n",
       "        vertical-align: top;\n",
       "    }\n",
       "\n",
       "    .dataframe thead th {\n",
       "        text-align: right;\n",
       "    }\n",
       "</style>\n",
       "<table border=\"1\" class=\"dataframe\">\n",
       "  <thead>\n",
       "    <tr style=\"text-align: right;\">\n",
       "      <th></th>\n",
       "      <th>YYYYMMDD</th>\n",
       "      <th>H</th>\n",
       "      <th>FF</th>\n",
       "      <th>T</th>\n",
       "      <th>RH</th>\n",
       "      <th>M</th>\n",
       "      <th>R</th>\n",
       "      <th>S</th>\n",
       "      <th>O</th>\n",
       "      <th>Y</th>\n",
       "    </tr>\n",
       "  </thead>\n",
       "  <tbody>\n",
       "    <tr>\n",
       "      <th>0</th>\n",
       "      <td>20170101</td>\n",
       "      <td>1</td>\n",
       "      <td>40</td>\n",
       "      <td>20</td>\n",
       "      <td>0</td>\n",
       "      <td>1</td>\n",
       "      <td>1</td>\n",
       "      <td>0</td>\n",
       "      <td>0</td>\n",
       "      <td>0</td>\n",
       "    </tr>\n",
       "    <tr>\n",
       "      <th>1</th>\n",
       "      <td>20170101</td>\n",
       "      <td>2</td>\n",
       "      <td>40</td>\n",
       "      <td>19</td>\n",
       "      <td>0</td>\n",
       "      <td>1</td>\n",
       "      <td>0</td>\n",
       "      <td>0</td>\n",
       "      <td>0</td>\n",
       "      <td>0</td>\n",
       "    </tr>\n",
       "    <tr>\n",
       "      <th>2</th>\n",
       "      <td>20170101</td>\n",
       "      <td>3</td>\n",
       "      <td>40</td>\n",
       "      <td>16</td>\n",
       "      <td>0</td>\n",
       "      <td>0</td>\n",
       "      <td>0</td>\n",
       "      <td>0</td>\n",
       "      <td>0</td>\n",
       "      <td>0</td>\n",
       "    </tr>\n",
       "    <tr>\n",
       "      <th>3</th>\n",
       "      <td>20170101</td>\n",
       "      <td>4</td>\n",
       "      <td>50</td>\n",
       "      <td>18</td>\n",
       "      <td>0</td>\n",
       "      <td>0</td>\n",
       "      <td>0</td>\n",
       "      <td>0</td>\n",
       "      <td>0</td>\n",
       "      <td>0</td>\n",
       "    </tr>\n",
       "    <tr>\n",
       "      <th>4</th>\n",
       "      <td>20170101</td>\n",
       "      <td>5</td>\n",
       "      <td>50</td>\n",
       "      <td>11</td>\n",
       "      <td>0</td>\n",
       "      <td>0</td>\n",
       "      <td>0</td>\n",
       "      <td>0</td>\n",
       "      <td>0</td>\n",
       "      <td>0</td>\n",
       "    </tr>\n",
       "  </tbody>\n",
       "</table>\n",
       "</div>"
      ],
      "text/plain": [
       "   YYYYMMDD  H  FF   T  RH  M  R  S  O  Y\n",
       "0  20170101  1  40  20   0  1  1  0  0  0\n",
       "1  20170101  2  40  19   0  1  0  0  0  0\n",
       "2  20170101  3  40  16   0  0  0  0  0  0\n",
       "3  20170101  4  50  18   0  0  0  0  0  0\n",
       "4  20170101  5  50  11   0  0  0  0  0  0"
      ]
     },
     "execution_count": 13,
     "metadata": {},
     "output_type": "execute_result"
    }
   ],
   "source": [
    "df = pd.read_csv('rotterdam_weather_org_17-22.csv')\n",
    "df.loc[df.RH == -1, 'RH'] = 0\n",
    "df.head()"
   ]
  },
  {
   "cell_type": "code",
   "execution_count": 14,
   "id": "86b2ff75-22ec-49b6-b47a-3d322acc654d",
   "metadata": {},
   "outputs": [],
   "source": [
    "dag_neerslag = alt.Chart(df).mark_bar().encode(x='YYYYMMDD', y='sum(RH)').transformed_data()\n",
    "dag_temp_min = alt.Chart(df).mark_bar().encode(x='YYYYMMDD', y='min(T)').transformed_data()\n",
    "dag_temp_max = alt.Chart(df).mark_bar().encode(x='YYYYMMDD', y='max(T)').transformed_data()\n",
    "dag_wind_mean = alt.Chart(df).mark_bar().encode(x='YYYYMMDD', y='mean(FF)').transformed_data()\n",
    "dag_type_regen = alt.Chart(df).mark_bar().encode(x='YYYYMMDD', y='sum(R)').transformed_data()\n",
    "dag_type_mist = alt.Chart(df).mark_bar().encode(x='YYYYMMDD', y='sum(M)').transformed_data()\n",
    "dag_type_sneeuw = alt.Chart(df).mark_bar().encode(x='YYYYMMDD', y='sum(S)').transformed_data()\n",
    "dag_type_onweer = alt.Chart(df).mark_bar().encode(x='YYYYMMDD', y='sum(O)').transformed_data()\n",
    "dag_type_ijs = alt.Chart(df).mark_bar().encode(x='YYYYMMDD', y='sum(Y)').transformed_data()"
   ]
  },
  {
   "cell_type": "code",
   "execution_count": 17,
   "id": "283a8227-dabd-4589-9dd5-50ba2f9f2b96",
   "metadata": {},
   "outputs": [],
   "source": [
    "df_comb = pd.concat((\n",
    "    pd.to_datetime(dag_neerslag['YYYYMMDD'], format='%Y%m%d'), \n",
    "    dag_neerslag[['sum_RH']] / 10,\n",
    "    dag_temp_max[['max_T']] / 10,\n",
    "    dag_temp_min[['min_T']] / 10,\n",
    "    dag_wind_mean[['mean_FF']] / 10\n",
    "), axis=1)\n",
    "df_comb.columns = ['date', 'precipitation', 'temp_max', 'temp_min', 'wind']\n",
    "df_comb['weather'] = 'sun'\n",
    "df_comb.loc[dag_type_regen.sum_R > 0, 'weather'] = 'rain'\n",
    "df_comb.loc[dag_type_mist.sum_M > 0, 'weather'] = 'fog'\n",
    "df_comb.loc[dag_type_sneeuw.sum_S > 0, 'weather'] = 'snow'\n",
    "#df_comb.loc[dag_type_onweer.sum_O > 0, 'weather'] = 'lightning'\n",
    "df_comb.loc[dag_type_ijs.sum_Y > 0, 'weather'] = 'ice'\n",
    "df_comb = df_comb[df_comb.date >= '2019-01-01']\n",
    "#df_comb.head()"
   ]
  },
  {
   "cell_type": "code",
   "execution_count": 18,
   "id": "0aa49f91-7823-4816-9fe3-96c395f01bb6",
   "metadata": {},
   "outputs": [],
   "source": [
    "df_comb.to_csv('rotterdam_weather_19-22.csv', index=False)"
   ]
  },
  {
   "cell_type": "code",
   "execution_count": null,
   "id": "09a2d68c-1b68-49c2-a9d3-b9b886cdfeb9",
   "metadata": {},
   "outputs": [],
   "source": []
  },
  {
   "cell_type": "code",
   "execution_count": null,
   "id": "7054a0ef-8688-4ed1-a2c3-217380cf28bd",
   "metadata": {},
   "outputs": [],
   "source": []
  }
 ],
 "metadata": {
  "kernelspec": {
   "display_name": "Python 3 (ipykernel)",
   "language": "python",
   "name": "python3"
  },
  "language_info": {
   "codemirror_mode": {
    "name": "ipython",
    "version": 3
   },
   "file_extension": ".py",
   "mimetype": "text/x-python",
   "name": "python",
   "nbconvert_exporter": "python",
   "pygments_lexer": "ipython3",
   "version": "3.10.13"
  }
 },
 "nbformat": 4,
 "nbformat_minor": 5
}
